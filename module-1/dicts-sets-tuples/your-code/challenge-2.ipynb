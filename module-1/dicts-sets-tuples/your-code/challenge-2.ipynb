{
 "cells": [
  {
   "cell_type": "markdown",
   "metadata": {},
   "source": [
    "## Challenge 2: Sets\n",
    "\n",
    "There are a lot to learn about Python Sets and the information presented in the lesson is limited due to its length. To learn Python Sets in depth you are strongly encouraged to review the W3Schools tutorial on [Python Sets Examples and Methods](https://www.w3schools.com/python/python_sets.asp) before you work on this lab. Some difficult questions in this lab have their solutions in the W3Schools tutorial.\n",
    "\n",
    "#### First, import the Python `random` library."
   ]
  },
  {
   "cell_type": "code",
   "execution_count": 2,
   "metadata": {},
   "outputs": [],
   "source": [
    "import random"
   ]
  },
  {
   "cell_type": "markdown",
   "metadata": {},
   "source": [
    "#### In the cell below, create a list named `sample_list_1` with 80 random values. \n",
    "\n",
    "Requirements:\n",
    "\n",
    "* Each value is an integer falling between 0 and 100.\n",
    "* Each value in the list is unique.\n",
    "\n",
    "Print `sample_list_1` to review its values\n",
    "\n",
    "*Hint: use `random.sample` ([reference](https://docs.python.org/3/library/random.html#random.sample)).*"
   ]
  },
  {
   "cell_type": "code",
   "execution_count": 3,
   "metadata": {},
   "outputs": [
    {
     "name": "stdout",
     "output_type": "stream",
     "text": [
      "[62, 29, 83, 94, 25, 18, 28, 37, 81, 49, 67, 84, 48, 66, 1, 88, 77, 95, 92, 96, 38, 72, 40, 20, 79, 65, 2, 8, 78, 36, 76, 53, 34, 24, 85, 5, 16, 80, 7, 17, 30, 58, 63, 73, 87, 57, 54, 89, 47, 74, 70, 15, 32, 61, 86, 93, 14, 21, 44, 35, 9, 23, 6, 75, 52, 51, 90, 39, 68, 19, 13, 46, 82, 22, 71, 42, 10, 59, 99, 27]\n"
     ]
    }
   ],
   "source": [
    "# Your code here\n",
    "sample_list_1=random.sample(range(100),k=80)\n",
    "print(sample_list_1)"
   ]
  },
  {
   "cell_type": "markdown",
   "metadata": {},
   "source": [
    "#### Convert `sample_list_1` to a set called `set1`. Print the length of the set. Is its length still 80?"
   ]
  },
  {
   "cell_type": "code",
   "execution_count": 4,
   "metadata": {},
   "outputs": [
    {
     "data": {
      "text/plain": [
       "80"
      ]
     },
     "execution_count": 4,
     "metadata": {},
     "output_type": "execute_result"
    }
   ],
   "source": [
    "# Your code here\n",
    "set1=set(sample_list_1)\n",
    "len(set1)"
   ]
  },
  {
   "cell_type": "markdown",
   "metadata": {},
   "source": [
    "#### Create another list named `sample_list_2` with 80 random values.\n",
    "\n",
    "Requirements:\n",
    "\n",
    "* Each value is an integer falling between 0 and 100.\n",
    "* The values in the list don't have to be unique.\n",
    "\n",
    "*Hint: Use a FOR loop.*"
   ]
  },
  {
   "cell_type": "code",
   "execution_count": 5,
   "metadata": {},
   "outputs": [
    {
     "name": "stdout",
     "output_type": "stream",
     "text": [
      "[96, 13, 93, 18, 7, 30, 11, 77, 31, 59, 95, 6, 100, 97, 89, 36, 79, 23, 39, 7, 62, 81, 38, 80, 98, 34, 58, 99, 18, 46, 52, 46, 74, 34, 83, 82, 49, 5, 91, 14, 1, 24, 24, 67, 83, 80, 30, 17, 27, 28, 78, 56, 65, 63, 90, 13, 41, 74, 20, 89, 67, 100, 56, 68, 16, 7, 55, 24, 95, 98, 35, 32, 74, 87, 19, 7, 31, 63, 75, 55]\n"
     ]
    }
   ],
   "source": [
    "# Your code here\n",
    "#sample_list_2=random.sample(range(100),k=80)\n",
    "#sample_list_1\n",
    "#[random.randrange(10) for i in range(5)]\n",
    "sample_list_2=[]\n",
    "for i in range(80):\n",
    "    number=random.randrange(101) # note: randrange() excludes stop value\n",
    "    sample_list_2.append(number)\n",
    "print(sample_list_2)"
   ]
  },
  {
   "cell_type": "markdown",
   "metadata": {},
   "source": [
    "#### Convert `sample_list_2` to a set called `set2`. Print the length of the set. Is its length still 80?"
   ]
  },
  {
   "cell_type": "code",
   "execution_count": 6,
   "metadata": {},
   "outputs": [
    {
     "name": "stdout",
     "output_type": "stream",
     "text": [
      "57\n"
     ]
    }
   ],
   "source": [
    "# Your code here\n",
    "set2=set(sample_list_2)\n",
    "print(len(set2))"
   ]
  },
  {
   "cell_type": "markdown",
   "metadata": {},
   "source": [
    "#### Identify the elements present in `set1` but not in `set2`. Assign the elements to a new set named `set3`."
   ]
  },
  {
   "cell_type": "code",
   "execution_count": 7,
   "metadata": {},
   "outputs": [
    {
     "name": "stdout",
     "output_type": "stream",
     "text": [
      "{2, 8, 9, 10, 15, 21, 22, 25, 29, 37, 40, 42, 44, 47, 48, 51, 53, 54, 57, 61, 66, 70, 71, 72, 73, 76, 84, 85, 86, 88, 92, 94}\n"
     ]
    }
   ],
   "source": [
    "# Your code here\n",
    "# Creating empty list\n",
    "list_unique_set1=[]\n",
    "# Using loop for to append to the list all elements in set1 that are not present in set2\n",
    "for i in set1:\n",
    "    if i not in set2:\n",
    "        list_unique_set1.append(i)\n",
    "# Converting list in set\n",
    "        set3=set(list_unique_set1)\n",
    "print(set3)"
   ]
  },
  {
   "cell_type": "markdown",
   "metadata": {},
   "source": [
    "#### Identify the elements present in `set2` but not in `set1`. Assign the elements to a new set named `set4`."
   ]
  },
  {
   "cell_type": "code",
   "execution_count": 8,
   "metadata": {},
   "outputs": [
    {
     "name": "stdout",
     "output_type": "stream",
     "text": [
      "{97, 98, 100, 41, 11, 55, 56, 91, 31}\n"
     ]
    }
   ],
   "source": [
    "# Your code here\n",
    "# Creating empty list\n",
    "list_unique_set2=[]\n",
    "# Using loop for to append to the list all elements in set2 that are not present in set1\n",
    "for i in set2:\n",
    "    if i not in set1:\n",
    "        list_unique_set2.append(i)\n",
    "# Converting list in set\n",
    "        set4=set(list_unique_set2)\n",
    "print(set4)"
   ]
  },
  {
   "cell_type": "markdown",
   "metadata": {},
   "source": [
    "#### Now Identify the elements shared between `set1` and `set2`. Assign the elements to a new set named `set5`."
   ]
  },
  {
   "cell_type": "code",
   "execution_count": 9,
   "metadata": {},
   "outputs": [
    {
     "name": "stdout",
     "output_type": "stream",
     "text": [
      "{1, 5, 6, 7, 13, 14, 16, 17, 18, 19, 20, 23, 24, 27, 28, 30, 32, 34, 35, 36, 38, 39, 46, 49, 52, 58, 59, 62, 63, 65, 67, 68, 74, 75, 77, 78, 79, 80, 81, 82, 83, 87, 89, 90, 93, 95, 96, 99}\n"
     ]
    }
   ],
   "source": [
    "# Your code here\n",
    "# Creating empty list\n",
    "list_shared=[]\n",
    "# Using loop for to append to the list all elements that are included in both sets\n",
    "for i in set1:\n",
    "    if i in set2:\n",
    "        list_shared.append(i)\n",
    "# Converting list in set\n",
    "        set5=set(list_shared)\n",
    "print(set5)"
   ]
  },
  {
   "cell_type": "markdown",
   "metadata": {},
   "source": [
    "#### What is the relationship among the following values:\n",
    "\n",
    "* len(set1)\n",
    "* len(set2)\n",
    "* len(set3)\n",
    "* len(set4)\n",
    "* len(set5)\n",
    "\n",
    "Use a math formular to represent that relationship. Test your formular with Python code."
   ]
  },
  {
   "cell_type": "code",
   "execution_count": 10,
   "metadata": {},
   "outputs": [
    {
     "name": "stdout",
     "output_type": "stream",
     "text": [
      "length set1: 80\n",
      "length set2: 57\n",
      "length set3: 32\n",
      "length set4: 9\n",
      "length set5: 48\n",
      "True - length set1 is equal to length set5 plus length set3\n",
      "True - length set2 is equal to length set5 plus length set4\n"
     ]
    }
   ],
   "source": [
    "# Your code here\n",
    "# Calculating legth for all sets created:\n",
    "len_set1=len(set1)\n",
    "len_set2=len(set2)\n",
    "len_set3=len(set3)\n",
    "len_set4=len(set4)\n",
    "len_set5=len(set5)\n",
    "# Priting legth for all sets created:\n",
    "print(f'length set1:', len_set1)\n",
    "print(f'length set2:', len_set2)\n",
    "print(f'length set3:', len_set3)\n",
    "print(f'length set4:', len_set4)\n",
    "print(f'length set5:', len_set5)\n",
    "# Defining the relationship between sets:\n",
    "# Length of set1 is componed by shared values of both sets (set5) plus unique values set1 (set3):\n",
    "if len_set1==len_set5+len_set3:\n",
    "    print(f'True - length set1 is equal to length set5 plus length set3')\n",
    "else:\n",
    "    print('wrong definition')\n",
    "# Length of set2 is componed by shared values of both sets (set5) plus unique values set2 (set4):\n",
    "if len_set2==len_set5+len_set4:\n",
    "    print(f'True - length set2 is equal to length set5 plus length set4')\n",
    "else:\n",
    "    print('wrong definition')"
   ]
  },
  {
   "cell_type": "markdown",
   "metadata": {},
   "source": [
    "#### Create an empty set called `set6`."
   ]
  },
  {
   "cell_type": "code",
   "execution_count": 11,
   "metadata": {},
   "outputs": [
    {
     "data": {
      "text/plain": [
       "set"
      ]
     },
     "execution_count": 11,
     "metadata": {},
     "output_type": "execute_result"
    }
   ],
   "source": [
    "# Your code here\n",
    "set6=set([])\n",
    "type(set6)"
   ]
  },
  {
   "cell_type": "markdown",
   "metadata": {},
   "source": [
    "#### Add `set3` and `set5` to `set6` using the Python Set `update` method."
   ]
  },
  {
   "cell_type": "code",
   "execution_count": 12,
   "metadata": {},
   "outputs": [
    {
     "name": "stdout",
     "output_type": "stream",
     "text": [
      "{1, 2, 5, 6, 7, 8, 9, 10, 13, 14, 15, 16, 17, 18, 19, 20, 21, 22, 23, 24, 25, 27, 28, 29, 30, 32, 34, 35, 36, 37, 38, 39, 40, 42, 44, 46, 47, 48, 49, 51, 52, 53, 54, 57, 58, 59, 61, 62, 63, 65, 66, 67, 68, 70, 71, 72, 73, 74, 75, 76, 77, 78, 79, 80, 81, 82, 83, 84, 85, 86, 87, 88, 89, 90, 92, 93, 94, 95, 96, 99}\n"
     ]
    }
   ],
   "source": [
    "# Your code here\n",
    "set6.update(set3, set5)\n",
    "print(set6)"
   ]
  },
  {
   "cell_type": "markdown",
   "metadata": {},
   "source": [
    "#### Check if `set1` and `set6` are equal."
   ]
  },
  {
   "cell_type": "code",
   "execution_count": 13,
   "metadata": {},
   "outputs": [
    {
     "name": "stdout",
     "output_type": "stream",
     "text": [
      "True - set1 and set6 are equal\n"
     ]
    }
   ],
   "source": [
    "# Your code here\n",
    "if set1==set6:\n",
    "    print(f'True - set1 and set6 are equal')\n",
    "else:\n",
    "    print(f'False - set1 and set6 are not equal')"
   ]
  },
  {
   "cell_type": "markdown",
   "metadata": {},
   "source": [
    "#### Check if `set1` contains `set2` using the Python Set `issubset` method. Then check if `set1` contains `set3`.*"
   ]
  },
  {
   "cell_type": "code",
   "execution_count": 14,
   "metadata": {},
   "outputs": [
    {
     "name": "stdout",
     "output_type": "stream",
     "text": [
      "False\n",
      "True\n"
     ]
    }
   ],
   "source": [
    "# Your code here\n",
    "print(set2.issubset(set1))\n",
    "print(set3.issubset(set1))"
   ]
  },
  {
   "cell_type": "markdown",
   "metadata": {},
   "source": [
    "#### Using the Python Set `union` method, aggregate `set3`, `set4`, and `set5`. Then aggregate `set1` and `set2`. \n",
    "\n",
    "#### Check if the aggregated values are equal."
   ]
  },
  {
   "cell_type": "code",
   "execution_count": 18,
   "metadata": {},
   "outputs": [
    {
     "name": "stdout",
     "output_type": "stream",
     "text": [
      "True - aggregated values are equal\n"
     ]
    }
   ],
   "source": [
    "# Your code here\n",
    "sum_sets_3_4_5=set.union(set3, set4, set5)\n",
    "sum_sets_1_2=set.union(set1, set2)\n",
    "if sum_sets_3_4_5==sum_sets_1_2:\n",
    "    print(f'True - aggregated values are equal')\n",
    "else:\n",
    "    print(f'False - aggregated values are not equal')"
   ]
  },
  {
   "cell_type": "markdown",
   "metadata": {},
   "source": [
    "#### Using the `pop` method, remove the first element from `set1`."
   ]
  },
  {
   "cell_type": "code",
   "execution_count": 25,
   "metadata": {},
   "outputs": [
    {
     "name": "stdout",
     "output_type": "stream",
     "text": [
      "{2, 5, 6, 7, 8, 9, 10, 13, 14, 15, 16, 17, 18, 19, 20, 21, 22, 23, 24, 25, 27, 28, 29, 30, 32, 34, 35, 36, 37, 38, 39, 40, 42, 44, 46, 47, 48, 49, 51, 52, 53, 54, 57, 58, 59, 61, 62, 63, 65, 66, 67, 68, 70, 71, 72, 73, 74, 75, 76, 77, 78, 79, 80, 81, 82, 83, 84, 85, 86, 87, 88, 89, 90, 92, 93, 94, 95, 96, 99}\n"
     ]
    },
    {
     "data": {
      "text/plain": [
       "79"
      ]
     },
     "execution_count": 25,
     "metadata": {},
     "output_type": "execute_result"
    }
   ],
   "source": [
    "# Your code here\n",
    "# set1.pop() --> with this formula we eliminate an arbitrary value from the set, as sets are not indexated data structures \n",
    "print(set1)\n",
    "len(set1)\n",
    "# Duda: por qué después de eliminar un elemento, los demás elementos del set salen ordenados?\n",
    "# Duda: se puede deshacer el método pop para volver al set original?"
   ]
  },
  {
   "cell_type": "markdown",
   "metadata": {},
   "source": [
    "#### Remove every element in the following list from `set1` if they are present in the set. Print the remaining elements.\n",
    "\n",
    "```\n",
    "list_to_remove = [1, 9, 11, 19, 21, 29, 31, 39, 41, 49, 51, 59, 61, 69, 71, 79, 81, 89, 91, 99]\n",
    "```"
   ]
  },
  {
   "cell_type": "code",
   "execution_count": 31,
   "metadata": {},
   "outputs": [
    {
     "name": "stdout",
     "output_type": "stream",
     "text": [
      "{2, 5, 6, 7, 8, 10, 13, 14, 15, 16, 17, 18, 20, 22, 23, 24, 25, 27, 28, 30, 32, 34, 35, 36, 37, 38, 40, 42, 44, 46, 47, 48, 52, 53, 54, 57, 58, 62, 63, 65, 66, 67, 68, 70, 72, 73, 74, 75, 76, 77, 78, 80, 82, 83, 84, 85, 86, 87, 88, 90, 92, 93, 94, 95, 96}\n"
     ]
    }
   ],
   "source": [
    "# Your code here\n",
    "list_to_remove = [1, 9, 11, 19, 21, 29, 31, 39, 41, 49, 51, 59, 61, 69, 71, 79, 81, 89, 91, 99]\n",
    "set_to_remove=set(list_to_remove)\n",
    "set1_new=set1-set_to_remove\n",
    "print(set1_new)"
   ]
  },
  {
   "cell_type": "code",
   "execution_count": null,
   "metadata": {},
   "outputs": [],
   "source": []
  }
 ],
 "metadata": {
  "kernelspec": {
   "display_name": "Python [conda env:m1]",
   "language": "python",
   "name": "conda-env-m1-py"
  },
  "language_info": {
   "codemirror_mode": {
    "name": "ipython",
    "version": 3
   },
   "file_extension": ".py",
   "mimetype": "text/x-python",
   "name": "python",
   "nbconvert_exporter": "python",
   "pygments_lexer": "ipython3",
   "version": "3.10.14"
  }
 },
 "nbformat": 4,
 "nbformat_minor": 2
}
